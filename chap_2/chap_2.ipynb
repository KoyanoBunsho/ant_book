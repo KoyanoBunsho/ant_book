{
 "cells": [
  {
   "cell_type": "markdown",
   "metadata": {},
   "source": [
    "### 部分和問題"
   ]
  },
  {
   "cell_type": "code",
   "execution_count": 4,
   "metadata": {},
   "outputs": [
    {
     "name": "stdout",
     "output_type": "stream",
     "text": [
      "4 13\n",
      "1 3 4 6\n",
      "Yes\n"
     ]
    }
   ],
   "source": [
    "def solve(i, sum):\n",
    "    if i == n:\n",
    "        return sum == k\n",
    "    if solve(i+1, sum):\n",
    "        return True\n",
    "    if solve(i+1, sum+a[i]):\n",
    "        return True\n",
    "    return False\n",
    "\n",
    "\n",
    "n, k = map(int, input().split())\n",
    "a = list(map(int, input().split()))\n",
    "if solve(0, 0):\n",
    "    print(\"Yes\")\n",
    "else:\n",
    "    print(\"No\")"
   ]
  },
  {
   "cell_type": "markdown",
   "metadata": {},
   "source": [
    "bit演算を用いたフラグ管理\n",
    "- ビットbitにi番目のフラグが立っているか: if(bit & (1<<i))\n",
    "- ビットbitにi番目のフラグが消えているか: if(!(bit & (1<<i)))\n",
    "- ビットbitにi番目のフラグを立てる: bit |= (1<<i)\n",
    "- ビットbitにi番目のフラグを消す: if(bit &= ~(1<<i))\n",
    "- ビットbitにi番目のフラグをたてたもの: bit | (1<<i)\n",
    "- ビットbitにi番目のフラグを消したもの: bit & ~(1<<i)"
   ]
  },
  {
   "cell_type": "code",
   "execution_count": 1,
   "metadata": {},
   "outputs": [
    {
     "name": "stdout",
     "output_type": "stream",
     "text": [
      "4 13\n",
      "1 2 3 4\n",
      "No\n"
     ]
    }
   ],
   "source": [
    "n, k = map(int, input().split())\n",
    "a = list(map(int, input().split()))\n",
    "for bit in range(1 << n):\n",
    "    sum = 0\n",
    "    for i in range(n):\n",
    "        if bit & (1 << i):\n",
    "            sum += a[i]\n",
    "    if sum == k:\n",
    "        print(\"Yes\")\n",
    "        exit()\n",
    "print(\"No\")"
   ]
  },
  {
   "cell_type": "markdown",
   "metadata": {},
   "source": [
    "### Lake counting"
   ]
  },
  {
   "cell_type": "code",
   "execution_count": 12,
   "metadata": {},
   "outputs": [
    {
     "name": "stdout",
     "output_type": "stream",
     "text": [
      "10 12\n",
      "W........WW.\n",
      ".WWW.....WWW\n",
      "....WW...WW.\n",
      "....WWW...WW\n",
      "............\n",
      "WWWWW.......\n",
      "WWWW........\n",
      "WWWW........\n",
      "........WWWW\n",
      "....WWWW....\n",
      "4\n"
     ]
    }
   ],
   "source": [
    "def dfs(x, y):\n",
    "    field[x][y]=\".\"\n",
    "    for dx in range(-1, 2):\n",
    "        for dy in range(-1, 2):\n",
    "            nx = x+dx\n",
    "            ny = y + dy\n",
    "            if 0<=nx and nx < n and 0 <= ny and ny < m and field[nx][ny]==\"W\":\n",
    "                dfs(nx, ny)\n",
    "n, m = map(int, input().split())\n",
    "field = [list(input()) for i in range(n)]\n",
    "res = 0\n",
    "for i in range(n):\n",
    "    for j in range(m):\n",
    "        if field[i][j] == \"W\":\n",
    "            dfs(i, j)\n",
    "            res += 1\n",
    "print(res)"
   ]
  },
  {
   "cell_type": "markdown",
   "metadata": {},
   "source": [
    "### 迷路の最短路"
   ]
  },
  {
   "cell_type": "code",
   "execution_count": null,
   "metadata": {},
   "outputs": [],
   "source": [
    "from collections import deque\n",
    "\n",
    "def bfs():\n",
    "    d = [[float(\"inf\")]*m for i in range(n)]\n",
    "    dx = [1, 0, -1, 0]\n",
    "    dy = [1, 0, -1, 0]\n",
    "    for i in range(n):\n",
    "        for j in range(m):\n",
    "            if maze[i][j] == \"S\":\n",
    "                sx = i\n",
    "                sy = j\n",
    "            if maze[i][j] == \"G\":\n",
    "                gx = i\n",
    "                gy = j\n",
    "    que = deque([])\n",
    "    que.append((sx, sy))\n",
    "    d[sx][sy] = 0\n",
    "    while que:\n",
    "        p = que.popleft()\n",
    "        if p[0]==gx and p[1] == gy:\n",
    "            break\n",
    "        for i in range(4):\n",
    "            nx = p[0]+dx[i]\n",
    "            ny = p[1]+dy[i]\n",
    "            if 0<=nx<n and 0<=ny<m and maze[nx][ny] != \"#\" and d[nx][ny] == float(\"inf\"):\n",
    "                que.append((nx, ny))\n",
    "                d[nx][ny]=d[p[0]][p[1]]+1\n",
    "    return d[gx][gy]"
   ]
  },
  {
   "cell_type": "markdown",
   "metadata": {},
   "source": [
    "### 特殊な状態の列挙"
   ]
  },
  {
   "cell_type": "code",
   "execution_count": 1,
   "metadata": {},
   "outputs": [
    {
     "name": "stdout",
     "output_type": "stream",
     "text": [
      "(0, 1, 2)\n",
      "(0, 2, 1)\n",
      "(1, 0, 2)\n",
      "(1, 2, 0)\n",
      "(2, 0, 1)\n",
      "(2, 1, 0)\n"
     ]
    }
   ],
   "source": [
    "import itertools\n",
    "\n",
    "for i in itertools.permutations([0, 1, 2], 3):\n",
    "    print(i)"
   ]
  },
  {
   "cell_type": "code",
   "execution_count": 3,
   "metadata": {},
   "outputs": [
    {
     "name": "stdout",
     "output_type": "stream",
     "text": [
      "(0, 1)\n",
      "(0, 2)\n",
      "(1, 2)\n"
     ]
    }
   ],
   "source": [
    "for i in itertools.combinations([0, 1, 2], 2):\n",
    "    print(i)"
   ]
  },
  {
   "cell_type": "markdown",
   "metadata": {},
   "source": [
    "### 区間スケジューリング問題"
   ]
  },
  {
   "cell_type": "code",
   "execution_count": null,
   "metadata": {},
   "outputs": [],
   "source": [
    "from operator import itemgetter\n",
    "\n",
    "\n",
    "n = int(input())\n",
    "s = list(map(int, input().split()))\n",
    "t = list(map(int, input().split()))\n",
    "\n",
    "st = sorted([(s[i], t[i]) for i in range(n)], key=itemgetter(1))\n",
    "ans = 0\n",
    "last = 0\n",
    "for i in range(n):\n",
    "    if last < st[i][0]:\n",
    "        ans += 1\n",
    "        last = st[i][1]\n",
    "print(ans)"
   ]
  },
  {
   "cell_type": "markdown",
   "metadata": {},
   "source": [
    "### Best Cow Line"
   ]
  },
  {
   "cell_type": "code",
   "execution_count": 2,
   "metadata": {},
   "outputs": [
    {
     "name": "stdout",
     "output_type": "stream",
     "text": [
      "6\n",
      "ACDBCB\n",
      "ABCBCD\n"
     ]
    }
   ],
   "source": [
    "n = int(input())\n",
    "s = input()\n",
    "t = \"\"\n",
    "a = 0\n",
    "b = n - 1\n",
    "while a <= b:\n",
    "    left = False\n",
    "    i = 0\n",
    "    while a + i <= b:\n",
    "        if s[a+i] < s[b-i]:\n",
    "            left = True\n",
    "            break\n",
    "        elif s[a+i]>s[b-i]:\n",
    "            left = False\n",
    "            break\n",
    "        i += 1\n",
    "    if left:\n",
    "        t += s[a]\n",
    "        a += 1\n",
    "    else:\n",
    "        t += s[b]\n",
    "        b -= 1\n",
    "print(t)"
   ]
  },
  {
   "cell_type": "markdown",
   "metadata": {},
   "source": [
    "### Saruman's Army"
   ]
  },
  {
   "cell_type": "code",
   "execution_count": 3,
   "metadata": {},
   "outputs": [
    {
     "name": "stdout",
     "output_type": "stream",
     "text": [
      "6\n",
      "10\n",
      "1 7 15 20 30 50\n",
      "3\n"
     ]
    }
   ],
   "source": [
    "n = int(input())\n",
    "r = int(input())\n",
    "x = list(map(int, input().split()))\n",
    "x = sorted(x)\n",
    "\n",
    "i  = 0\n",
    "ans = 0\n",
    "while i < n:\n",
    "    s = x[i]\n",
    "    i += 1\n",
    "    while i<n and x[i]<=s+r:\n",
    "        i += 1\n",
    "    p = x[i-1]\n",
    "    while i<n and x[i]<=p+r:\n",
    "        i += 1\n",
    "    ans += 1\n",
    "print(ans)"
   ]
  },
  {
   "cell_type": "markdown",
   "metadata": {},
   "source": [
    "### Fence Repair"
   ]
  },
  {
   "cell_type": "code",
   "execution_count": 3,
   "metadata": {},
   "outputs": [
    {
     "name": "stdout",
     "output_type": "stream",
     "text": [
      "3\n",
      "8 5 8\n",
      "34\n"
     ]
    }
   ],
   "source": [
    "n = int(input())\n",
    "L = list(map(int, input().split()))\n",
    "ans = 0\n",
    "while n > 1:\n",
    "    mii1 = 0\n",
    "    mii2 = 1\n",
    "    if L[mii1] > L[mii2]:\n",
    "        mii1, mii2 = mii2, mii1\n",
    "    for i in range(2, n):\n",
    "        if L[i]<L[mii1]:\n",
    "            mii2 = mii1\n",
    "            mii1 = i\n",
    "        elif L[i]<L[mii2]:\n",
    "            mii2 = i\n",
    "    t = L[mii1]+L[mii2]\n",
    "    ans += t\n",
    "    if mii1 == n-1:\n",
    "        mii1, mii2 = mii2, mii1\n",
    "    L[mii1]=t\n",
    "    L[mii2]=L[n-1]\n",
    "    n -= 1\n",
    "print(ans)"
   ]
  },
  {
   "cell_type": "markdown",
   "metadata": {},
   "source": [
    "### 01ナップサック問題"
   ]
  },
  {
   "cell_type": "code",
   "execution_count": 1,
   "metadata": {},
   "outputs": [
    {
     "name": "stdout",
     "output_type": "stream",
     "text": [
      "4\n",
      "2 3\n",
      "1 2\n",
      "3 4\n",
      "2 2\n",
      "5\n",
      "7\n"
     ]
    }
   ],
   "source": [
    "def rec_memo(i, j):\n",
    "    if dp[i][j]:\n",
    "        return dp[i][j]\n",
    "    if i == n:\n",
    "        res = 0\n",
    "    elif j < w[i]:\n",
    "        res = rec_memo(i+1, j)\n",
    "    else:\n",
    "        res = max(rec_memo(i+1, j), rec_memo(i+1, j-w[i])+v[i])\n",
    "    dp[i][j] = res\n",
    "    return res\n",
    "\n",
    "\n",
    "n = int(input())\n",
    "w = []\n",
    "v = []\n",
    "for i in range(n):\n",
    "    w_, v_ = map(int, input().split())\n",
    "    w.append(w_)\n",
    "    v.append(v_)\n",
    "W = int(input())\n",
    "dp = [[0]*(W+1)for i in range(n+1)]\n",
    "print(rec_memo(0, W))"
   ]
  },
  {
   "cell_type": "code",
   "execution_count": 1,
   "metadata": {},
   "outputs": [
    {
     "name": "stdout",
     "output_type": "stream",
     "text": [
      "4\n",
      "2 3\n",
      "1 2\n",
      "3 4\n",
      "2 2\n",
      "5\n",
      "7\n"
     ]
    }
   ],
   "source": [
    "n = int(input())\n",
    "w = []\n",
    "v = []\n",
    "for i in range(n):\n",
    "    w_, v_ = map(int, input().split())\n",
    "    w.append(w_)\n",
    "    v.append(v_)\n",
    "W = int(input())\n",
    "dp = [[0]*(W+1)for i in range(n+1)]\n",
    "for i in range(n):\n",
    "    for j in range(W+1):\n",
    "        if j<w[i]:\n",
    "            dp[i+1][j] = dp[i][j]\n",
    "        else:\n",
    "            dp[i+1][j] = max(dp[i][j], dp[i][j-w[i]]+v[i])\n",
    "print(dp[n][W])\n"
   ]
  },
  {
   "cell_type": "markdown",
   "metadata": {},
   "source": [
    "### 最長共通部分列問題"
   ]
  },
  {
   "cell_type": "code",
   "execution_count": 3,
   "metadata": {},
   "outputs": [
    {
     "name": "stdout",
     "output_type": "stream",
     "text": [
      "4 4\n",
      "abcd\n",
      "becd\n",
      "3\n"
     ]
    }
   ],
   "source": [
    "n, m = map(int, input().split())\n",
    "s = input()\n",
    "t = input()\n",
    "\n",
    "dp = [[0]*(m+1) for i in range(n+1)]\n",
    "for i in range(n):\n",
    "    for j in range(m):\n",
    "        if s[i] == t[j]:\n",
    "            dp[i+1][j+1] = dp[i][j]+1\n",
    "        else:\n",
    "            dp[i+1][j+1] = max(dp[i][j+1], dp[i+1][j])\n",
    "print(dp[n][m])"
   ]
  },
  {
   "cell_type": "markdown",
   "metadata": {},
   "source": [
    "### 個数制限なしナップサック問題"
   ]
  },
  {
   "cell_type": "code",
   "execution_count": 8,
   "metadata": {},
   "outputs": [
    {
     "name": "stdout",
     "output_type": "stream",
     "text": [
      "3\n",
      "3 4\n",
      "4 5\n",
      "2 3\n",
      "7\n",
      "10\n"
     ]
    }
   ],
   "source": [
    "n = int(input())\n",
    "w = []\n",
    "v = []\n",
    "for i in range(n):\n",
    "    w_, v_ = map(int, input().split())\n",
    "    w.append(w_)\n",
    "    v.append(v_)\n",
    "W = int(input())\n",
    "dp = [[0]*(W+1) for i in range(n+1)]\n",
    "for i in range(n):\n",
    "    for j in range(W+1):\n",
    "        if j < w[i]:\n",
    "            dp[i+1][j] = dp[i][j]\n",
    "        else:\n",
    "            dp[i+1][j] = max(dp[i][j], dp[i+1][j-w[i]]+v[i])\n",
    "print(dp[n][W])"
   ]
  },
  {
   "cell_type": "markdown",
   "metadata": {},
   "source": [
    "### 01ナップサック問題その2"
   ]
  },
  {
   "cell_type": "code",
   "execution_count": 2,
   "metadata": {},
   "outputs": [
    {
     "name": "stdout",
     "output_type": "stream",
     "text": [
      "4\n",
      "2 3\n",
      "1 2\n",
      "3 4\n",
      "2 2\n",
      "5\n",
      "7\n"
     ]
    }
   ],
   "source": [
    "n = int(input())\n",
    "w = []\n",
    "v = []\n",
    "for i in range(n):\n",
    "    w_, v_ = map(int, input().split())\n",
    "    w.append(w_)\n",
    "    v.append(v_)\n",
    "W = int(input())\n",
    "dp = [[float(\"inf\")] * (n*101) for i in range(n+1)]\n",
    "dp[0][0] = 0\n",
    "for i in range(n):\n",
    "    for j in range(n*100):\n",
    "        if j<v[i]:\n",
    "            dp[i+1][j] = dp[i][j]\n",
    "        else:\n",
    "            dp[i+1][j] = min(dp[i][j], dp[i][j-v[i]]+w[i])\n",
    "res = 0\n",
    "for i in range(n*100):\n",
    "    if dp[n][i] <= W:\n",
    "        res = i\n",
    "print(res)"
   ]
  },
  {
   "cell_type": "markdown",
   "metadata": {},
   "source": [
    "### 個数制限付き部分和問題"
   ]
  },
  {
   "cell_type": "code",
   "execution_count": 2,
   "metadata": {},
   "outputs": [
    {
     "name": "stdout",
     "output_type": "stream",
     "text": [
      "3\n",
      "3 5 8\n",
      "3 2 2\n",
      "17\n",
      "Yes\n"
     ]
    }
   ],
   "source": [
    "n = int(input())\n",
    "a = list(map(int, input().split()))\n",
    "m = list(map(int, input().split()))\n",
    "K = int(input())\n",
    "\n",
    "dp = [-1]*(K+1)\n",
    "dp[0] = 0\n",
    "for i in range(n):\n",
    "    for j in range(K+1):\n",
    "        if dp[j]>=0:\n",
    "            dp[j]=m[i]\n",
    "        elif j<a[i] or dp[j-a[i]]<=0:\n",
    "            dp[j] = -1\n",
    "        else:\n",
    "            dp[j] = dp[j-a[i]]-1\n",
    "if dp[K]>=0:\n",
    "    print(\"Yes\")\n",
    "else:\n",
    "    print(\"No\")"
   ]
  },
  {
   "cell_type": "markdown",
   "metadata": {},
   "source": [
    "### 最長増加部分列問題"
   ]
  },
  {
   "cell_type": "code",
   "execution_count": 4,
   "metadata": {},
   "outputs": [
    {
     "name": "stdout",
     "output_type": "stream",
     "text": [
      "5\n",
      "4 2 3 1 5\n",
      "0\n",
      "0\n",
      "1\n",
      "0\n",
      "2\n",
      "[1, 3, 5, inf, inf]\n",
      "3\n"
     ]
    }
   ],
   "source": [
    "from bisect import bisect_left\n",
    "\n",
    "n = int(input())\n",
    "a = list(map(int, input().split()))\n",
    "dp = [float(\"inf\")]*n\n",
    "for i in range(n):\n",
    "    print(bisect_left(dp, a[i]))\n",
    "    dp[bisect_left(dp, a[i])] = a[i]\n",
    "print(dp)\n",
    "print(bisect_left(dp, float(\"inf\")))"
   ]
  },
  {
   "cell_type": "markdown",
   "metadata": {},
   "source": [
    "### 分割数"
   ]
  },
  {
   "cell_type": "code",
   "execution_count": 1,
   "metadata": {},
   "outputs": [
    {
     "name": "stdout",
     "output_type": "stream",
     "text": [
      "4\n",
      "3\n",
      "10000\n",
      "4\n"
     ]
    }
   ],
   "source": [
    "n = int(input())\n",
    "m = int(input())\n",
    "M = int(input())\n",
    "\n",
    "dp = [[0] * (n + 1) for i in range(m + 1)]\n",
    "\n",
    "# dp[i][j] := j の i 分割の総数\n",
    "\n",
    "dp[0][0] = 1\n",
    "for i in range(m + 1):\n",
    "    for j in range(n + 1):\n",
    "        if j - i >= 0:\n",
    "            dp[i][j] = (dp[i - 1][j] + dp[i][j - i]) % M\n",
    "        else:\n",
    "            dp[i][j] = dp[i - 1][j]\n",
    "\n",
    "print(dp[m][n])"
   ]
  },
  {
   "cell_type": "markdown",
   "metadata": {},
   "source": [
    "### 重複組み合わせ"
   ]
  },
  {
   "cell_type": "code",
   "execution_count": 1,
   "metadata": {},
   "outputs": [
    {
     "name": "stdout",
     "output_type": "stream",
     "text": [
      "3\n",
      "3\n",
      "1 2 3\n",
      "10000\n",
      "6\n"
     ]
    }
   ],
   "source": [
    "n = int(input())\n",
    "m = int(input())\n",
    "a = list(map(int, input().split()))\n",
    "M = int(input())\n",
    "\n",
    "dp = [[0]*(m+1)for i in range(n+1)]\n",
    "\n",
    "for i in range(n+1):\n",
    "    dp[i][0] = 1\n",
    "for i in range(n):\n",
    "    for j in range(1, m+1):\n",
    "        if j-1-a[i]>=0:\n",
    "            dp[i+1][j] = (dp[i+1][j-1]+dp[i][j]-dp[i][j-1-a[i]]+M)%M\n",
    "        else:\n",
    "            dp[i+1][j] = (dp[i+1][j-1]+dp[i][j])%M\n",
    "print(dp[n][m])"
   ]
  },
  {
   "cell_type": "code",
   "execution_count": null,
   "metadata": {},
   "outputs": [],
   "source": []
  }
 ],
 "metadata": {
  "kernelspec": {
   "display_name": "Python 3",
   "language": "python",
   "name": "python3"
  },
  "language_info": {
   "codemirror_mode": {
    "name": "ipython",
    "version": 3
   },
   "file_extension": ".py",
   "mimetype": "text/x-python",
   "name": "python",
   "nbconvert_exporter": "python",
   "pygments_lexer": "ipython3",
   "version": "3.8.1"
  }
 },
 "nbformat": 4,
 "nbformat_minor": 4
}
