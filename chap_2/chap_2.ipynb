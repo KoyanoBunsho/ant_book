{
 "cells": [
  {
   "cell_type": "code",
   "execution_count": null,
   "metadata": {},
   "outputs": [],
   "source": [
    "def solve(i, sum):\n",
    "    if i == n:\n",
    "        return sum == k\n",
    "    if dfs(i+1, sum):\n",
    "        return True\n",
    "    if dfs(i+1, sum+a[i]):\n",
    "        return True\n",
    "    return False\n",
    "\n",
    "\n",
    "n, k = map(int, input().split())\n",
    "a = list(map(int, input().split()))\n",
    "if dfs(0, 0):\n",
    "    print(\"Yes\")\n",
    "else:\n",
    "    print(\"No\")"
   ]
  },
  {
   "cell_type": "markdown",
   "metadata": {},
   "source": [
    "bit演算を用いたフラグ管理\n",
    "- ビットbitにi番目のフラグが立っているか: if(bit & (1<<i))\n",
    "- ビットbitにi番目のフラグが消えているか: if(!(bit & (1<<i)))\n",
    "- ビットbitにi番目のフラグを立てる: bit |= (1<<i)\n",
    "- ビットbitにi番目のフラグを消す: if(bit &= ~(1<<i))\n",
    "- ビットbitにi番目のフラグをたてたもの: bit | (1<<i)\n",
    "- ビットbitにi番目のフラグを消したもの: bit & ~(1<<i)"
   ]
  },
  {
   "cell_type": "code",
   "execution_count": null,
   "metadata": {},
   "outputs": [],
   "source": [
    "n, k = map(int, input().split())\n",
    "a = list(map(int, input().split()))\n",
    "for bit in range(1 << n):\n",
    "    sum = 0\n",
    "    for i in range(n):\n",
    "        if bit & (1 << i):\n",
    "            sum += a[i]\n",
    "    if sum == k:\n",
    "        print(\"Yes\")\n",
    "        exit()\n",
    "print(\"No\")"
   ]
  }
 ],
 "metadata": {
  "kernelspec": {
   "display_name": "Python 3",
   "language": "python",
   "name": "python3"
  },
  "language_info": {
   "codemirror_mode": {
    "name": "ipython",
    "version": 3
   },
   "file_extension": ".py",
   "mimetype": "text/x-python",
   "name": "python",
   "nbconvert_exporter": "python",
   "pygments_lexer": "ipython3",
   "version": "3.8.1"
  }
 },
 "nbformat": 4,
 "nbformat_minor": 4
}
