{
 "cells": [
  {
   "cell_type": "markdown",
   "metadata": {},
   "source": [
    "### lower bound"
   ]
  },
  {
   "cell_type": "code",
   "execution_count": 1,
   "metadata": {},
   "outputs": [
    {
     "name": "stdout",
     "output_type": "stream",
     "text": [
      "1\n"
     ]
    }
   ],
   "source": [
    "from bisect import bisect_left\n",
    "\n",
    "\n",
    "N = 5\n",
    "A = [2, 3, 3, 5, 6]\n",
    "K = 3\n",
    "print(bisect_left(A, K))"
   ]
  },
  {
   "cell_type": "markdown",
   "metadata": {},
   "source": [
    "### cable master"
   ]
  },
  {
   "cell_type": "code",
   "execution_count": 3,
   "metadata": {},
   "outputs": [
    {
     "name": "stdout",
     "output_type": "stream",
     "text": [
      "2.0\n"
     ]
    }
   ],
   "source": [
    "import math\n",
    "\n",
    "\n",
    "N = 4\n",
    "K = 11\n",
    "L = [8.02, 7.43, 4.57, 5.39]\n",
    "\n",
    "def f(target):\n",
    "    cnt = 0\n",
    "    for i in range(N):\n",
    "        cnt += math.floor(L[i]/target)\n",
    "    if cnt >= K:\n",
    "        return True\n",
    "    else:\n",
    "        return False\n",
    "\n",
    "ng = 0\n",
    "ok = 10 ** 9 + 1\n",
    "for i in range(100):\n",
    "    mid = (ng+ok)/2\n",
    "    if f(mid):\n",
    "        ng = mid\n",
    "    else:\n",
    "        ok = mid\n",
    "print(math.floor(ok*100)/100)"
   ]
  },
  {
   "cell_type": "markdown",
   "metadata": {},
   "source": [
    "### aggressive cows"
   ]
  },
  {
   "cell_type": "code",
   "execution_count": 5,
   "metadata": {},
   "outputs": [
    {
     "name": "stdout",
     "output_type": "stream",
     "text": [
      "3\n"
     ]
    }
   ],
   "source": [
    "N = 5\n",
    "M = 3\n",
    "X = [1, 2, 8, 4, 9]\n",
    "X.sort()\n",
    "\n",
    "def c(d):\n",
    "    last = 0\n",
    "    for _ in range(M-1):\n",
    "        crt = last+1\n",
    "        while crt < N and X[crt]-X[last]<d:\n",
    "            crt += 1\n",
    "        if crt == N:\n",
    "            return False\n",
    "        last = crt\n",
    "    return True\n",
    "\n",
    "ok = -1\n",
    "ng = 10 ** 9 + 1\n",
    "\n",
    "while abs(ng-ok)>1:\n",
    "    mid = (ok+ng)//2\n",
    "    if c(mid):\n",
    "        ok = mid\n",
    "    else:\n",
    "        ng = mid\n",
    "print(ok)"
   ]
  },
  {
   "cell_type": "markdown",
   "metadata": {},
   "source": [
    "### 平均最大化"
   ]
  },
  {
   "cell_type": "code",
   "execution_count": 1,
   "metadata": {},
   "outputs": [
    {
     "name": "stdout",
     "output_type": "stream",
     "text": [
      "0.75\n"
     ]
    }
   ],
   "source": [
    "N = 3\n",
    "K = 2\n",
    "W = [2, 5, 2]\n",
    "V = [2, 3, 1]\n",
    "\n",
    "def c2(x, w, v):\n",
    "    cnt = 0\n",
    "    items = [v[i]-x*w[i] for i in range(N)]\n",
    "    items.sort(reverse=True)\n",
    "    for i in range(K):\n",
    "        cnt += items[i]\n",
    "    return cnt >= 0\n",
    "\n",
    "ok = 0\n",
    "ng = 10 ** 9 + 1\n",
    "for i in range(100):\n",
    "    mid = (ok+ng)/2\n",
    "    if c2(mid, W, V):\n",
    "        ok = mid\n",
    "    else:\n",
    "        ng = mid\n",
    "print(ok)"
   ]
  },
  {
   "cell_type": "code",
   "execution_count": 3,
   "metadata": {},
   "outputs": [
    {
     "name": "stdout",
     "output_type": "stream",
     "text": [
      "0.75\n"
     ]
    }
   ],
   "source": [
    "N = 3\n",
    "K = 2\n",
    "W = [2, 5, 2]\n",
    "V = [2, 3, 1]\n",
    "\n",
    "def c2(x, w, v):\n",
    "    items = [v[i]-x*w[i]for i in range(N)]\n",
    "    items.sort(reverse=True)\n",
    "    cnt = sum(items[:K])\n",
    "    return cnt >= 0\n",
    "\n",
    "\n",
    "ok = 0\n",
    "ng = 10 ** 9 + 1\n",
    "for i in range(100):\n",
    "    mid = (ok+ng)/2\n",
    "    if c2(mid, W, V):\n",
    "        ok = mid\n",
    "    else:\n",
    "        ng = mid\n",
    "print(ok)"
   ]
  },
  {
   "cell_type": "markdown",
   "metadata": {},
   "source": [
    "### subsequence"
   ]
  },
  {
   "cell_type": "code",
   "execution_count": 2,
   "metadata": {},
   "outputs": [
    {
     "name": "stdout",
     "output_type": "stream",
     "text": [
      "3\n"
     ]
    }
   ],
   "source": [
    "N = 5\n",
    "S = 10\n",
    "A = [1, 2, 3, 4, 5]\n",
    "right = 0\n",
    "total = 0\n",
    "ans = float(\"inf\")\n",
    "\n",
    "for left in range(N):\n",
    "    while right<N and total < S:\n",
    "        total += A[right]\n",
    "        right += 1\n",
    "    if total < S:\n",
    "        continue\n",
    "    ans = min(ans, right-left)\n",
    "    if left == right:\n",
    "        right += 1\n",
    "    total -= A[left]\n",
    "print(ans)"
   ]
  },
  {
   "cell_type": "markdown",
   "metadata": {},
   "source": [
    "### Jessica's reading problem"
   ]
  },
  {
   "cell_type": "code",
   "execution_count": 1,
   "metadata": {},
   "outputs": [
    {
     "name": "stdout",
     "output_type": "stream",
     "text": [
      "2\n"
     ]
    }
   ],
   "source": [
    "P = 5\n",
    "A = [1, 8, 8, 8, 1]\n",
    "dic = {}\n",
    "for i in A:\n",
    "    dic[i] = 0\n",
    "l = 0\n",
    "cnt = 0\n",
    "ans = float(\"inf\")\n",
    "for r in range(P):\n",
    "    if dic[A[r]]==0:\n",
    "        cnt += 1\n",
    "    dic[A[r]] += 1\n",
    "    while True:\n",
    "        if dic[A[l]] == 1:\n",
    "            break\n",
    "        dic[A[l]] -= 1\n",
    "        l += 1\n",
    "    if cnt < len(dic.items()):\n",
    "        continue\n",
    "    ans = min(ans, r-l+1)\n",
    "print(ans)"
   ]
  },
  {
   "cell_type": "markdown",
   "metadata": {},
   "source": [
    "### Face the right way"
   ]
  },
  {
   "cell_type": "code",
   "execution_count": 1,
   "metadata": {},
   "outputs": [
    {
     "name": "stdout",
     "output_type": "stream",
     "text": [
      "3 3\n"
     ]
    }
   ],
   "source": [
    "N = 7\n",
    "S = \"BBFBFBB\"\n",
    "\n",
    "def judge(k):\n",
    "    imos = [0]*N\n",
    "    if S[0] == \"B\":\n",
    "        imos[0] = 1\n",
    "    for i in range(1, N-k+1):\n",
    "        if i<k:\n",
    "            rev = imos[i-1]\n",
    "        else:\n",
    "            rev = imos[i-1]-imos[i-k]\n",
    "        if(S[i]==\"B\")^(rev%2):\n",
    "            imos[i] += 1\n",
    "        imos[i] += imos[i-1]\n",
    "    for i in range(N-k+1, N):\n",
    "        if i<k:\n",
    "            rev = imos[N-k]\n",
    "        else:\n",
    "            rev = imos[N-k]-imos[i-k]\n",
    "        if (S[i]==\"B\")^(rev%2):\n",
    "            return float(\"inf\")\n",
    "    return imos[N-k]\n",
    "\n",
    "K = 0\n",
    "M = float(\"inf\")\n",
    "for i in range(1, N+1):\n",
    "    opt = judge(i)\n",
    "    if opt<M:\n",
    "        M = opt\n",
    "        K = i\n",
    "print(K, M)"
   ]
  },
  {
   "cell_type": "markdown",
   "metadata": {},
   "source": [
    "### Fliptile"
   ]
  },
  {
   "cell_type": "code",
   "execution_count": 2,
   "metadata": {},
   "outputs": [
    {
     "name": "stdout",
     "output_type": "stream",
     "text": [
      "0 0 0 0\n",
      "1 0 0 1\n",
      "1 0 0 1\n",
      "0 0 0 0\n",
      "0 0 0 0\n",
      "1 0 0 1\n",
      "1 0 0 1\n",
      "0 0 0 0\n",
      "0 0 0 0\n",
      "1 0 0 1\n",
      "1 0 0 1\n",
      "0 0 0 0\n",
      "0 0 0 0\n",
      "1 0 0 1\n",
      "1 0 0 1\n",
      "0 0 0 0\n",
      "0 1 0 0\n",
      "0 1 1 1\n",
      "1 1 0 0\n",
      "0 0 1 1\n",
      "0 1 0 0\n",
      "0 1 1 1\n",
      "1 1 0 0\n",
      "0 0 1 1\n",
      "0 1 0 0\n",
      "0 1 1 1\n",
      "1 1 0 0\n",
      "0 0 1 1\n",
      "1 0 1 0\n",
      "0 0 1 0\n",
      "0 0 0 1\n",
      "0 1 1 1\n",
      "1 0 1 0\n",
      "0 0 1 0\n",
      "0 0 0 1\n",
      "0 1 1 1\n",
      "1 1 1 0\n",
      "1 1 0 0\n",
      "0 1 0 0\n",
      "0 1 0 0\n",
      "1 1 1 0\n",
      "1 1 0 0\n",
      "0 1 0 0\n",
      "0 1 0 0\n",
      "0 0 0 1\n",
      "1 0 1 0\n",
      "1 1 0 1\n",
      "1 1 0 1\n",
      "0 1 0 1\n",
      "0 1 0 0\n",
      "1 0 0 0\n",
      "1 1 1 0\n",
      "1 0 1 1\n",
      "0 0 0 1\n",
      "0 1 0 1\n",
      "1 0 1 0\n",
      "1 1 1 1\n",
      "1 1 1 1\n",
      "0 0 0 0\n",
      "1 0 0 1\n"
     ]
    }
   ],
   "source": [
    "M = 4\n",
    "N = 4\n",
    "maze = [\n",
    "    [1, 0, 0, 1],\n",
    "    [0, 1, 1, 0],\n",
    "    [0, 1, 1, 0],\n",
    "    [1, 0, 0, 1]\n",
    "]\n",
    "\n",
    "def changer(o, f):\n",
    "    for i in range(1, M):\n",
    "        for j in range(N):\n",
    "            if(maze[i-1][j]==1)^(f[i-1][j]%2):\n",
    "                o[i][j] += 1\n",
    "                f[i][j] += 1\n",
    "                f[i-1][j] += 1\n",
    "                if j>=1:\n",
    "                    f[i][j-1]+=1\n",
    "                if j<N-1:\n",
    "                    f[i][j+1]+=1\n",
    "                if i<M-1:\n",
    "                    f[i+1][j]+=1\n",
    "    return o, f\n",
    "\n",
    "\n",
    "for bit in range(1<<N):\n",
    "    opt = [[0]*N for i in range(M)]\n",
    "    flip = [[0]*N for i in range(M)]\n",
    "    for i in range(N):\n",
    "        if bit&(1<<i):\n",
    "            opt[0][i] += 1\n",
    "            flip[0][i] += 1\n",
    "            if i>=1:\n",
    "                flip[0][i-1]+=1\n",
    "            if i<N-1:\n",
    "                flip[0][i+1]+=1\n",
    "    opt, flip = changer(opt, flip)\n",
    "    for j in range(N):\n",
    "        if(maze[M-1][j]==1)^(flip[M-1][j]%2):\n",
    "            break\n",
    "        else:\n",
    "            for i in opt:\n",
    "                print(*i)"
   ]
  },
  {
   "cell_type": "markdown",
   "metadata": {},
   "source": [
    "### Physics experiment"
   ]
  },
  {
   "cell_type": "code",
   "execution_count": 2,
   "metadata": {},
   "outputs": [
    {
     "name": "stdout",
     "output_type": "stream",
     "text": [
      "4.949366116653453\n",
      "10.199872455486881\n"
     ]
    }
   ],
   "source": [
    "import math\n",
    "N, H, R, T = 2, 10, 10, 100\n",
    "g = 10\n",
    "\n",
    "def judge(time):\n",
    "    if time<0:\n",
    "        return M\n",
    "    t = math.sqrt(2*H/10)\n",
    "    k = int(time/t)\n",
    "    if k%2==0:\n",
    "        d=time-k*t\n",
    "        return H-g*d*d/2\n",
    "    else:\n",
    "        d=k*t+t-time\n",
    "        return H-g*d*d/2\n",
    "ans = []\n",
    "for i in range(N):\n",
    "    ans.append(judge(T-i))\n",
    "ans.sort()\n",
    "for i in range(N):\n",
    "    print(ans[i]+(2*R*i/100))"
   ]
  },
  {
   "cell_type": "markdown",
   "metadata": {},
   "source": [
    "### 4 values whose sum is 0"
   ]
  },
  {
   "cell_type": "code",
   "execution_count": 4,
   "metadata": {},
   "outputs": [
    {
     "name": "stdout",
     "output_type": "stream",
     "text": [
      "5\n"
     ]
    }
   ],
   "source": [
    "from bisect import bisect_left, bisect_right\n",
    "\n",
    "N = 6\n",
    "A = [-45, -41, -36, -36, 26, -32]\n",
    "B = [22, -27, 53, 30, -38, -54]\n",
    "C = [42, 56, -37, 75, -10, -6]\n",
    "D = [-16, 30, 77, -46, 62, 45]\n",
    "\n",
    "re_A = []\n",
    "re_C = []\n",
    "for i in range(N):\n",
    "    for j in range(N):\n",
    "        re_A.append(A[i]+B[j])\n",
    "        re_C.append(C[i]+D[j])\n",
    "re_A.sort()\n",
    "re_C.sort()\n",
    "ans = 0\n",
    "for i in re_A:\n",
    "    ind1 = bisect_left(re_C, 0-i)\n",
    "    ind2 = bisect_right(re_C, 0-i)\n",
    "    ans += ind2 - ind1\n",
    "print(ans)"
   ]
  },
  {
   "cell_type": "markdown",
   "metadata": {},
   "source": [
    "### 巨大ナップサック"
   ]
  },
  {
   "cell_type": "code",
   "execution_count": 3,
   "metadata": {},
   "outputs": [
    {
     "name": "stdout",
     "output_type": "stream",
     "text": [
      "7\n"
     ]
    }
   ],
   "source": [
    "from bisect import bisect_right\n",
    "\n",
    "N = 4\n",
    "w = [2, 1, 3, 2]\n",
    "v = [3, 2, 4, 2]\n",
    "W = 5\n",
    "\n",
    "def re_list(weight, value):\n",
    "    fore_list = []\n",
    "    for bit in range(1<<len(weight)):\n",
    "        wei = 0\n",
    "        val = 0\n",
    "        for i in range(len(weight)):\n",
    "            if bit & (1<<i):\n",
    "                wei += weight[i]\n",
    "                val += value[i]\n",
    "        fore_list.append([wei, val])\n",
    "    fore_list.sort()\n",
    "    alta_w = []\n",
    "    alta_v = []\n",
    "    now = -1\n",
    "    for i in fore_list:\n",
    "        if now<i[1]:\n",
    "            now = i[1]\n",
    "            alta_w.append(i[0])\n",
    "            alta_v.append(i[1])\n",
    "    return alta_w, alta_v\n",
    "\n",
    "\n",
    "def half_knapsack(N, limit, weight, value):\n",
    "    fore_w, fore_v = re_list(weight[:N//2], value[:N//2])\n",
    "    back_w, back_v = re_list(weight[N//2:], value[N//2:])\n",
    "    ans = 0\n",
    "    for b_w, b_v in zip(back_w, back_v):\n",
    "        if b_w > limit:\n",
    "            continue\n",
    "        opt = b_v\n",
    "        index = bisect_right(fore_w, limit-b_w)\n",
    "        if index > 0:\n",
    "            opt += fore_v[index-1]\n",
    "        ans = max(ans, opt)\n",
    "    return ans\n",
    "\n",
    "print(half_knapsack(N, W, w, v))"
   ]
  },
  {
   "cell_type": "markdown",
   "metadata": {},
   "source": [
    "### セグメント木"
   ]
  },
  {
   "cell_type": "code",
   "execution_count": 1,
   "metadata": {},
   "outputs": [
    {
     "data": {
      "text/plain": [
       "8"
      ]
     },
     "execution_count": 1,
     "metadata": {},
     "output_type": "execute_result"
    }
   ],
   "source": [
    "2**(4).bit_length()"
   ]
  },
  {
   "cell_type": "code",
   "execution_count": 2,
   "metadata": {},
   "outputs": [],
   "source": [
    "def init(init_val):\n",
    "    for i in range(n):\n",
    "        seg[i+num-1]=init_val[i]\n",
    "    for i in range(num-2, -1, -1):\n",
    "        seg[i]=segfunc(seg[2*i+1], seg[2*i+2])\n",
    "\n",
    "def update(k, x):\n",
    "    k += num-1\n",
    "    seg[k] = x\n",
    "    while k:\n",
    "        k = (k-1)//2\n",
    "        seg[k] = segfunc(seg[k*2+1], seg[k*2+2])\n",
    "\n",
    "def query(p, q):\n",
    "    if q<=p:\n",
    "        return ide_ele\n",
    "    p += num-1\n",
    "    q += num-2\n",
    "    res=ide_ele\n",
    "    while q-p>1:\n",
    "        if p&1 == 0:\n",
    "            res = segfunc(res, seg[p])\n",
    "        if q&1 == 1:\n",
    "            res = segfunc(res, seg[q])\n",
    "            q -= 1\n",
    "        p = p//2\n",
    "        q = (q-1)//2\n",
    "    if p==q:\n",
    "        res = segfunc(res, seg[p])\n",
    "    else:\n",
    "        res = segfunc(segfunc(res, seg[p]), seg[q])\n",
    "    return res"
   ]
  },
  {
   "cell_type": "code",
   "execution_count": null,
   "metadata": {},
   "outputs": [],
   "source": [
    "class SegmentTree:\n",
    "    def __init__(self, n, ele=10**10):\n",
    "        self.ide_ele = ele\n",
    "        self.num = 2**(n-1).bit_length()\n",
    "        self.seg = [self.ide_ele]*2*self.num\n",
    "    def segfunc(self, x, y):\n",
    "        return min(x, y)"
   ]
  }
 ],
 "metadata": {
  "kernelspec": {
   "display_name": "Python 3",
   "language": "python",
   "name": "python3"
  },
  "language_info": {
   "codemirror_mode": {
    "name": "ipython",
    "version": 3
   },
   "file_extension": ".py",
   "mimetype": "text/x-python",
   "name": "python",
   "nbconvert_exporter": "python",
   "pygments_lexer": "ipython3",
   "version": "3.8.1"
  }
 },
 "nbformat": 4,
 "nbformat_minor": 4
}
