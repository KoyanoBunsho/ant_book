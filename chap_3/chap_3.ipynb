{
 "cells": [
  {
   "cell_type": "markdown",
   "metadata": {},
   "source": [
    "### lower bound"
   ]
  },
  {
   "cell_type": "code",
   "execution_count": 1,
   "metadata": {},
   "outputs": [
    {
     "name": "stdout",
     "output_type": "stream",
     "text": [
      "1\n"
     ]
    }
   ],
   "source": [
    "from bisect import bisect_left\n",
    "\n",
    "\n",
    "N = 5\n",
    "A = [2, 3, 3, 5, 6]\n",
    "K = 3\n",
    "print(bisect_left(A, K))"
   ]
  },
  {
   "cell_type": "markdown",
   "metadata": {},
   "source": [
    "### cable master"
   ]
  },
  {
   "cell_type": "code",
   "execution_count": 3,
   "metadata": {},
   "outputs": [
    {
     "name": "stdout",
     "output_type": "stream",
     "text": [
      "2.0\n"
     ]
    }
   ],
   "source": [
    "import math\n",
    "\n",
    "\n",
    "N = 4\n",
    "K = 11\n",
    "L = [8.02, 7.43, 4.57, 5.39]\n",
    "\n",
    "def f(target):\n",
    "    cnt = 0\n",
    "    for i in range(N):\n",
    "        cnt += math.floor(L[i]/target)\n",
    "    if cnt >= K:\n",
    "        return True\n",
    "    else:\n",
    "        return False\n",
    "\n",
    "ng = 0\n",
    "ok = 10 ** 9 + 1\n",
    "for i in range(100):\n",
    "    mid = (ng+ok)/2\n",
    "    if f(mid):\n",
    "        ng = mid\n",
    "    else:\n",
    "        ok = mid\n",
    "print(math.floor(ok*100)/100)"
   ]
  },
  {
   "cell_type": "markdown",
   "metadata": {},
   "source": [
    "### aggressive cows"
   ]
  },
  {
   "cell_type": "code",
   "execution_count": 5,
   "metadata": {},
   "outputs": [
    {
     "name": "stdout",
     "output_type": "stream",
     "text": [
      "3\n"
     ]
    }
   ],
   "source": [
    "N = 5\n",
    "M = 3\n",
    "X = [1, 2, 8, 4, 9]\n",
    "X.sort()\n",
    "\n",
    "def c(d):\n",
    "    last = 0\n",
    "    for _ in range(M-1):\n",
    "        crt = last+1\n",
    "        while crt < N and X[crt]-X[last]<d:\n",
    "            crt += 1\n",
    "        if crt == N:\n",
    "            return False\n",
    "        last = crt\n",
    "    return True\n",
    "\n",
    "ok = -1\n",
    "ng = 10 ** 9 + 1\n",
    "\n",
    "while abs(ng-ok)>1:\n",
    "    mid = (ok+ng)//2\n",
    "    if c(mid):\n",
    "        ok = mid\n",
    "    else:\n",
    "        ng = mid\n",
    "print(ok)"
   ]
  },
  {
   "cell_type": "markdown",
   "metadata": {},
   "source": [
    "### 平均最大化"
   ]
  },
  {
   "cell_type": "code",
   "execution_count": 1,
   "metadata": {},
   "outputs": [
    {
     "name": "stdout",
     "output_type": "stream",
     "text": [
      "0.75\n"
     ]
    }
   ],
   "source": [
    "N = 3\n",
    "K = 2\n",
    "W = [2, 5, 2]\n",
    "V = [2, 3, 1]\n",
    "\n",
    "def c2(x, w, v):\n",
    "    cnt = 0\n",
    "    items = [v[i]-x*w[i] for i in range(N)]\n",
    "    items.sort(reverse=True)\n",
    "    for i in range(K):\n",
    "        cnt += items[i]\n",
    "    return cnt >= 0\n",
    "\n",
    "ok = 0\n",
    "ng = 10 ** 9 + 1\n",
    "for i in range(100):\n",
    "    mid = (ok+ng)/2\n",
    "    if c2(mid, W, V):\n",
    "        ok = mid\n",
    "    else:\n",
    "        ng = mid\n",
    "print(ok)"
   ]
  },
  {
   "cell_type": "code",
   "execution_count": 3,
   "metadata": {},
   "outputs": [
    {
     "name": "stdout",
     "output_type": "stream",
     "text": [
      "0.75\n"
     ]
    }
   ],
   "source": [
    "N = 3\n",
    "K = 2\n",
    "W = [2, 5, 2]\n",
    "V = [2, 3, 1]\n",
    "\n",
    "def c2(x, w, v):\n",
    "    items = [v[i]-x*w[i]for i in range(N)]\n",
    "    items.sort(reverse=True)\n",
    "    cnt = sum(items[:K])\n",
    "    return cnt >= 0\n",
    "\n",
    "\n",
    "ok = 0\n",
    "ng = 10 ** 9 + 1\n",
    "for i in range(100):\n",
    "    mid = (ok+ng)/2\n",
    "    if c2(mid, W, V):\n",
    "        ok = mid\n",
    "    else:\n",
    "        ng = mid\n",
    "print(ok)"
   ]
  },
  {
   "cell_type": "markdown",
   "metadata": {},
   "source": [
    "### subsequence"
   ]
  },
  {
   "cell_type": "code",
   "execution_count": 2,
   "metadata": {},
   "outputs": [
    {
     "name": "stdout",
     "output_type": "stream",
     "text": [
      "3\n"
     ]
    }
   ],
   "source": [
    "N = 5\n",
    "S = 10\n",
    "A = [1, 2, 3, 4, 5]\n",
    "right = 0\n",
    "total = 0\n",
    "ans = float(\"inf\")\n",
    "\n",
    "for left in range(N):\n",
    "    while right<N and total < S:\n",
    "        total += A[right]\n",
    "        right += 1\n",
    "    if total < S:\n",
    "        continue\n",
    "    ans = min(ans, right-left)\n",
    "    if left == right:\n",
    "        right += 1\n",
    "    total -= A[left]\n",
    "print(ans)"
   ]
  },
  {
   "cell_type": "markdown",
   "metadata": {},
   "source": [
    "### Jessica's reading problem"
   ]
  },
  {
   "cell_type": "code",
   "execution_count": 1,
   "metadata": {},
   "outputs": [
    {
     "name": "stdout",
     "output_type": "stream",
     "text": [
      "2\n"
     ]
    }
   ],
   "source": [
    "P = 5\n",
    "A = [1, 8, 8, 8, 1]\n",
    "dic = {}\n",
    "for i in A:\n",
    "    dic[i] = 0\n",
    "l = 0\n",
    "cnt = 0\n",
    "ans = float(\"inf\")\n",
    "for r in range(P):\n",
    "    if dic[A[r]]==0:\n",
    "        cnt += 1\n",
    "    dic[A[r]] += 1\n",
    "    while True:\n",
    "        if dic[A[l]] == 1:\n",
    "            break\n",
    "        dic[A[l]] -= 1\n",
    "        l += 1\n",
    "    if cnt < len(dic.items()):\n",
    "        continue\n",
    "    ans = min(ans, r-l+1)\n",
    "print(ans)"
   ]
  },
  {
   "cell_type": "markdown",
   "metadata": {},
   "source": [
    "### Face the right way"
   ]
  },
  {
   "cell_type": "code",
   "execution_count": 1,
   "metadata": {},
   "outputs": [
    {
     "name": "stdout",
     "output_type": "stream",
     "text": [
      "3 3\n"
     ]
    }
   ],
   "source": [
    "N = 7\n",
    "S = \"BBFBFBB\"\n",
    "\n",
    "def judge(k):\n",
    "    imos = [0]*N\n",
    "    if S[0] == \"B\":\n",
    "        imos[0] = 1\n",
    "    for i in range(1, N-k+1):\n",
    "        if i<k:\n",
    "            rev = imos[i-1]\n",
    "        else:\n",
    "            rev = imos[i-1]-imos[i-k]\n",
    "        if(S[i]==\"B\")^(rev%2):\n",
    "            imos[i] += 1\n",
    "        imos[i] += imos[i-1]\n",
    "    for i in range(N-k+1, N):\n",
    "        if i<k:\n",
    "            rev = imos[N-k]\n",
    "        else:\n",
    "            rev = imos[N-k]-imos[i-k]\n",
    "        if (S[i]==\"B\")^(rev%2):\n",
    "            return float(\"inf\")\n",
    "    return imos[N-k]\n",
    "\n",
    "K = 0\n",
    "M = float(\"inf\")\n",
    "for i in range(1, N+1):\n",
    "    opt = judge(i)\n",
    "    if opt<M:\n",
    "        M = opt\n",
    "        K = i\n",
    "print(K, M)"
   ]
  },
  {
   "cell_type": "code",
   "execution_count": null,
   "metadata": {},
   "outputs": [],
   "source": []
  }
 ],
 "metadata": {
  "kernelspec": {
   "display_name": "Python 3",
   "language": "python",
   "name": "python3"
  },
  "language_info": {
   "codemirror_mode": {
    "name": "ipython",
    "version": 3
   },
   "file_extension": ".py",
   "mimetype": "text/x-python",
   "name": "python",
   "nbconvert_exporter": "python",
   "pygments_lexer": "ipython3",
   "version": "3.8.1"
  }
 },
 "nbformat": 4,
 "nbformat_minor": 4
}
